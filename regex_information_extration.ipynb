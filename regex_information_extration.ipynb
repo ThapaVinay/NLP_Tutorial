{
 "cells": [
  {
   "cell_type": "markdown",
   "id": "3dfe9574-08bd-47e9-95bf-e23ee439f844",
   "metadata": {},
   "source": [
    "# NLP - Codebasics\n",
    "### What is NLP?\n",
    " #### &emsp; 1. It is field in computer science and AI that gives machine an ability to understand human language and to assist in language related tasks.\n",
    "#### &emsp; 2. We can go to [Regex](regex101.com) to practice regex.\n"
   ]
  },
  {
   "cell_type": "markdown",
   "id": "f163b4b8-4fdf-46ee-914f-db961cee6274",
   "metadata": {},
   "source": [
    "### <b> * Retrieving email and phone number </b>"
   ]
  },
  {
   "cell_type": "code",
   "execution_count": 6,
   "id": "cda1967f-531b-424b-8de4-8cf6f6a4557d",
   "metadata": {},
   "outputs": [],
   "source": [
    "import re"
   ]
  },
  {
   "cell_type": "code",
   "execution_count": 13,
   "id": "296c7e6e-2652-41be-b811-b265099c33e2",
   "metadata": {},
   "outputs": [],
   "source": [
    "chat1 = 'vinay: you ask lot of questions 😠  1235678912, abc@xyz.com'\n",
    "chat2 = 'vinay: here it is: (123)-567-8912, abc@xyz.com'\n",
    "chat3 = 'vinay: yes, phone: 1235678912 email: abc@xyz.com'"
   ]
  },
  {
   "cell_type": "code",
   "execution_count": 16,
   "id": "61886199-f8c7-4950-b04a-5ede374aaf6d",
   "metadata": {},
   "outputs": [
    {
     "data": {
      "text/plain": [
       "['1235678912']"
      ]
     },
     "execution_count": 16,
     "metadata": {},
     "output_type": "execute_result"
    }
   ],
   "source": [
    "pattern = '\\d{10}'  # it will match 10 continuous numbers\n",
    "\n",
    "matches = re.findall(pattern, chat1)\n",
    "matches"
   ]
  },
  {
   "cell_type": "code",
   "execution_count": 20,
   "id": "74cfe2b1-f53c-4c28-bfea-3e67f0cd622c",
   "metadata": {},
   "outputs": [
    {
     "data": {
      "text/plain": [
       "['(123)-567-8912']"
      ]
     },
     "execution_count": 20,
     "metadata": {},
     "output_type": "execute_result"
    }
   ],
   "source": [
    "pattern = '\\(\\d{3}\\)-\\d{3}-\\d{4}'  \n",
    "\n",
    "matches = re.findall(pattern, chat2)\n",
    "matches"
   ]
  },
  {
   "cell_type": "code",
   "execution_count": 24,
   "id": "5e30843e-bb60-478d-a145-390fb91ce1c4",
   "metadata": {},
   "outputs": [
    {
     "data": {
      "text/plain": [
       "['1235678912', '(123)-567-8912', '1235678912']"
      ]
     },
     "execution_count": 24,
     "metadata": {},
     "output_type": "execute_result"
    }
   ],
   "source": [
    "pattern = '\\(\\d{3}\\)-\\d{3}-\\d{4}|\\d{10}'     # we use | for 'or'\n",
    "\n",
    "matches = re.findall(pattern, chat1+chat2+chat3)\n",
    "matches"
   ]
  },
  {
   "cell_type": "code",
   "execution_count": 25,
   "id": "f3403d82-da9b-495c-bb91-d55a1ff7e6de",
   "metadata": {},
   "outputs": [
    {
     "data": {
      "text/plain": [
       "['abc@xyz.comcodebasics', 'abc@xyz.comcodebasics', 'abc@xyz.com']"
      ]
     },
     "execution_count": 25,
     "metadata": {},
     "output_type": "execute_result"
    }
   ],
   "source": [
    "pattern = '[a-z1-9A-Z_]*@[a-z1-9A-Z]*\\.[a-zA-Z]*'\n",
    "\n",
    "matches = re.findall(pattern, chat1+chat2+chat3)\n",
    "matches"
   ]
  },
  {
   "cell_type": "markdown",
   "id": "59302cc0-d070-47c5-b25f-c2e3fdbabc6e",
   "metadata": {},
   "source": [
    " ### <b> * Retrieving order ID </b>"
   ]
  },
  {
   "cell_type": "code",
   "execution_count": 26,
   "id": "c9f5d48c-e47e-4305-8d04-1118025840d2",
   "metadata": {},
   "outputs": [],
   "source": [
    "chat1='vinay: Hello, I am having an issue with my order # 412889912'\n",
    "chat2='vinay: I have a problem with my order number 412889912'\n",
    "chat3='vinay: My order 412889912 is having an issue, I was charged 300$ when online it says 280$'\n"
   ]
  },
  {
   "cell_type": "code",
   "execution_count": 27,
   "id": "28c2d18d-c709-40ba-9a01-03d3f4987f55",
   "metadata": {},
   "outputs": [
    {
     "data": {
      "text/plain": [
       "['412889912', '412889912', '412889912']"
      ]
     },
     "execution_count": 27,
     "metadata": {},
     "output_type": "execute_result"
    }
   ],
   "source": [
    "pattern = 'order[^\\d]*(\\d*)'   # [^\\d] -> matches except number , (\\d*) -> if we want a group from the matched string put it in brackets\n",
    "\n",
    "matches = re.findall(pattern, chat1+chat2+chat3)\n",
    "matches"
   ]
  },
  {
   "cell_type": "markdown",
   "id": "96b6578c-79e2-4cc7-86de-f26c66b01ba0",
   "metadata": {},
   "source": [
    " ### <b> * Retrieving twitter handles </b>"
   ]
  },
  {
   "cell_type": "code",
   "execution_count": 39,
   "id": "e2c43884-b1ed-4af9-8efc-09ec88f6c52b",
   "metadata": {},
   "outputs": [],
   "source": [
    "text = '''\n",
    "Follow our leader Elon musk on twitter here: https://twitter.com/elonmusk, more information \n",
    "on Tesla's products can be found at https://www.tesla.com/. Also here are leading influencers \n",
    "for tesla related news,\n",
    "https://twitter.com/teslarati\n",
    "https://twitter.com/dummy_tesla\n",
    "https://twitter.com/dummy_2_tesla\n",
    "'''\n"
   ]
  },
  {
   "cell_type": "code",
   "execution_count": 41,
   "id": "9d6fa072-b928-4e17-8a3a-c2577c05e87f",
   "metadata": {},
   "outputs": [
    {
     "data": {
      "text/plain": [
       "['elonmusk', 'teslarati', 'dummy_tesla', 'dummy_2_tesla']"
      ]
     },
     "execution_count": 41,
     "metadata": {},
     "output_type": "execute_result"
    }
   ],
   "source": [
    "pattern = 'https://twitter.com/([a-zA-Z0-9_]+)'  # it will not take the first one\n",
    "\n",
    "matches = re.findall(pattern, text)\n",
    "matches"
   ]
  },
  {
   "cell_type": "code",
   "execution_count": 42,
   "id": "816c16b5-ef64-46c3-a7a5-fdb62862b2ae",
   "metadata": {},
   "outputs": [],
   "source": [
    "text = '''\n",
    "Tesla's gross cost of operating lease vehicles in FY2021 Q1 was $4.85 billion.\n",
    "BMW's gross cost of operating vehicles in FY2021 S1 was $8 billion.\n",
    "'''"
   ]
  },
  {
   "cell_type": "code",
   "execution_count": 43,
   "id": "76d1da9a-a992-40ae-ae2d-6bb968e6f027",
   "metadata": {},
   "outputs": [
    {
     "data": {
      "text/plain": [
       "['2021 Q1', '2021 S1']"
      ]
     },
     "execution_count": 43,
     "metadata": {},
     "output_type": "execute_result"
    }
   ],
   "source": [
    "pattern = 'FY(\\d{4} (?:Q[1-4]|S[1-2]))'  # '?:' -> used when we don't want to particularly capture a group within () but the whole\n",
    "\n",
    "matches = re.findall(pattern, text)\n",
    "matches\n"
   ]
  },
  {
   "cell_type": "code",
   "execution_count": null,
   "id": "df11416e-3a25-4d36-9b6d-5cb44594c61b",
   "metadata": {},
   "outputs": [],
   "source": []
  }
 ],
 "metadata": {
  "kernelspec": {
   "display_name": "Python 3 (ipykernel)",
   "language": "python",
   "name": "python3"
  },
  "language_info": {
   "codemirror_mode": {
    "name": "ipython",
    "version": 3
   },
   "file_extension": ".py",
   "mimetype": "text/x-python",
   "name": "python",
   "nbconvert_exporter": "python",
   "pygments_lexer": "ipython3",
   "version": "3.11.4"
  }
 },
 "nbformat": 4,
 "nbformat_minor": 5
}
