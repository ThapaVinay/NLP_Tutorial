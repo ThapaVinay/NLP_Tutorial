{
 "cells": [
  {
   "cell_type": "markdown",
   "metadata": {},
   "source": [
    "<h3> What is this? </h3>\n",
    "<p> Converting the word to its base word </p>\n",
    "<p> <li> Talking -> talk </li></p>\n",
    "\n",
    "<h5><b> Stemming </b></h5>\n",
    "<p> <li> Use fixed rules such as remove able, ing, etc. to derive a base word. </li>\n",
    "\n",
    "<h5><b> Lemmatization </b></h5>\n",
    "<p> <li> Here you need knowledge of a language (linguistic) to derive a base word."
   ]
  },
  {
   "cell_type": "code",
   "execution_count": null,
   "metadata": {},
   "outputs": [],
   "source": []
  }
 ],
 "metadata": {
  "language_info": {
   "name": "python"
  }
 },
 "nbformat": 4,
 "nbformat_minor": 2
}
