{
 "cells": [
  {
   "cell_type": "markdown",
   "metadata": {},
   "source": [
    "<h4> There are 8 parts of speech in english </h4>\n",
    "<p><li> Noun\n",
    "    <li> Pronoun\n",
    "    <li> Verb\n",
    "    <li> Abverb\n",
    "    <li> Adjective\n",
    "    <li> Interjection\n",
    "    <li> Conjuction\n",
    "    <li> Preposition\n",
    " </p>"
   ]
  },
  {
   "cell_type": "code",
   "execution_count": 1,
   "metadata": {},
   "outputs": [],
   "source": [
    "import spacy"
   ]
  },
  {
   "cell_type": "code",
   "execution_count": 2,
   "metadata": {},
   "outputs": [],
   "source": [
    "nlp = spacy.load(\"en_core_web_sm\")"
   ]
  },
  {
   "cell_type": "code",
   "execution_count": 7,
   "metadata": {},
   "outputs": [
    {
     "name": "stdout",
     "output_type": "stream",
     "text": [
      "Elon | PROPN | proper noun\n",
      "flew | VERB | verb\n",
      "to | ADP | adposition\n",
      "mars | NOUN | noun\n",
      "yesterday | NOUN | noun\n",
      ". | PUNCT | punctuation\n",
      "He | PRON | pronoun\n",
      "carried | VERB | verb\n",
      "biryani | ADJ | adjective\n",
      "masala | NOUN | noun\n",
      "with | ADP | adposition\n",
      "him | PRON | pronoun\n"
     ]
    }
   ],
   "source": [
    "# pos tagging\n",
    "\n",
    "doc = nlp(\"Elon flew to mars yesterday. He carried biryani masala with him\")\n",
    "\n",
    "for token in doc:\n",
    "    print(token, \"|\", token.pos_, \"|\", spacy.explain(token.pos_))"
   ]
  },
  {
   "cell_type": "code",
   "execution_count": 8,
   "metadata": {},
   "outputs": [
    {
     "name": "stdout",
     "output_type": "stream",
     "text": [
      "Elon | NNP | noun, proper singular\n",
      "flew | VBD | verb, past tense\n",
      "to | IN | conjunction, subordinating or preposition\n",
      "mars | NNS | noun, plural\n",
      "yesterday | NN | noun, singular or mass\n",
      ". | . | punctuation mark, sentence closer\n",
      "He | PRP | pronoun, personal\n",
      "carried | VBD | verb, past tense\n",
      "biryani | JJ | adjective (English), other noun-modifier (Chinese)\n",
      "masala | NN | noun, singular or mass\n",
      "with | IN | conjunction, subordinating or preposition\n",
      "him | PRP | pronoun, personal\n"
     ]
    }
   ],
   "source": [
    "# more information like past tense\n",
    "\n",
    "doc = nlp(\"Elon flew to mars yesterday. He carried biryani masala with him\")\n",
    "\n",
    "for token in doc:\n",
    "    print(token, \"|\", token.tag_, \"|\", spacy.explain(token.tag_))"
   ]
  },
  {
   "cell_type": "code",
   "execution_count": 9,
   "metadata": {},
   "outputs": [],
   "source": [
    "earnings_text = \"\"\"Microsoft Corp. today announced the following results for the quarter ended December 31, 2023, as compared to the corresponding period of last fiscal year:\n",
    "\n",
    "·        Revenue was $62.0 billion and increased 18% (up 16% in constant currency)\n",
    "\n",
    "·        Operating income was $27.0 billion and increased 33%, and increased 25% non-GAAP (up 23% in constant currency)\n",
    "\n",
    "·        Net income was $21.9 billion and etc. increased 33%, and increased 26% non-GAAP (up 23% in constant currency)\n",
    "\n",
    "·        Diluted earnings per share was $2.93 and increased 33%, and increased 26% non-GAAP (up 23% in constant currency)\"\"\""
   ]
  },
  {
   "cell_type": "code",
   "execution_count": 15,
   "metadata": {},
   "outputs": [],
   "source": [
    "# getting rid of unnecessary characters\n",
    "\n",
    "doc = nlp(earnings_text)\n",
    "\n",
    "filtered_tokens = []\n",
    "\n",
    "for token in doc:\n",
    "    if token.pos_ not in [\"SPACE\", \"X\", \"PUNCT\"]:\n",
    "        filtered_tokens.append(token)"
   ]
  },
  {
   "cell_type": "code",
   "execution_count": 16,
   "metadata": {},
   "outputs": [
    {
     "data": {
      "text/plain": [
       "[Microsoft,\n",
       " Corp.,\n",
       " today,\n",
       " announced,\n",
       " the,\n",
       " following,\n",
       " results,\n",
       " for,\n",
       " the,\n",
       " quarter,\n",
       " ended,\n",
       " December,\n",
       " 31,\n",
       " 2023,\n",
       " as,\n",
       " compared,\n",
       " to,\n",
       " the,\n",
       " corresponding,\n",
       " period,\n",
       " of,\n",
       " last,\n",
       " fiscal,\n",
       " year,\n",
       " Revenue,\n",
       " was,\n",
       " $,\n",
       " 62.0,\n",
       " billion,\n",
       " and,\n",
       " increased,\n",
       " 18,\n",
       " %,\n",
       " up,\n",
       " 16,\n",
       " %,\n",
       " in,\n",
       " constant,\n",
       " currency,\n",
       " Operating,\n",
       " income,\n",
       " was,\n",
       " $,\n",
       " 27.0,\n",
       " billion,\n",
       " and,\n",
       " increased,\n",
       " 33,\n",
       " %,\n",
       " and,\n",
       " increased,\n",
       " 25,\n",
       " %,\n",
       " non,\n",
       " -,\n",
       " GAAP,\n",
       " up,\n",
       " 23,\n",
       " %,\n",
       " in,\n",
       " constant,\n",
       " currency,\n",
       " Net,\n",
       " income,\n",
       " was,\n",
       " $,\n",
       " 21.9,\n",
       " billion,\n",
       " and,\n",
       " increased,\n",
       " 33,\n",
       " %,\n",
       " and,\n",
       " increased,\n",
       " 26,\n",
       " %,\n",
       " non,\n",
       " -,\n",
       " GAAP,\n",
       " up,\n",
       " 23,\n",
       " %,\n",
       " in,\n",
       " constant,\n",
       " currency,\n",
       " Diluted,\n",
       " earnings,\n",
       " per,\n",
       " share,\n",
       " was,\n",
       " $,\n",
       " 2.93,\n",
       " and,\n",
       " increased,\n",
       " 33,\n",
       " %,\n",
       " and,\n",
       " increased,\n",
       " 26,\n",
       " %,\n",
       " non,\n",
       " -,\n",
       " GAAP,\n",
       " up,\n",
       " 23,\n",
       " %,\n",
       " in,\n",
       " constant,\n",
       " currency]"
      ]
     },
     "execution_count": 16,
     "metadata": {},
     "output_type": "execute_result"
    }
   ],
   "source": [
    "filtered_tokens"
   ]
  },
  {
   "cell_type": "code",
   "execution_count": 22,
   "metadata": {},
   "outputs": [
    {
     "name": "stdout",
     "output_type": "stream",
     "text": [
      "PROPN | 3\n",
      "NOUN | 34\n",
      "VERB | 13\n",
      "DET | 3\n",
      "ADP | 8\n",
      "NUM | 20\n",
      "PUNCT | 18\n",
      "SCONJ | 1\n",
      "ADJ | 8\n",
      "SPACE | 8\n",
      "AUX | 4\n",
      "SYM | 4\n",
      "CCONJ | 7\n",
      "ADV | 4\n"
     ]
    }
   ],
   "source": [
    "# count of different POS\n",
    "\n",
    "count = doc.count_by(spacy.attrs.POS)\n",
    "\n",
    "for k,v in count.items():\n",
    "    print(doc.vocab[k].text, \"|\", v)"
   ]
  },
  {
   "cell_type": "code",
   "execution_count": null,
   "metadata": {},
   "outputs": [],
   "source": []
  }
 ],
 "metadata": {
  "kernelspec": {
   "display_name": "Python 3",
   "language": "python",
   "name": "python3"
  },
  "language_info": {
   "codemirror_mode": {
    "name": "ipython",
    "version": 3
   },
   "file_extension": ".py",
   "mimetype": "text/x-python",
   "name": "python",
   "nbconvert_exporter": "python",
   "pygments_lexer": "ipython3",
   "version": "3.12.0"
  }
 },
 "nbformat": 4,
 "nbformat_minor": 2
}
