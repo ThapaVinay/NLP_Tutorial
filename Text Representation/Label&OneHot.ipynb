{
 "cells": [
  {
   "cell_type": "markdown",
   "metadata": {},
   "source": [
    "<h3> Vector space model </h3>\n",
    "<p> <li> Converting text to vectors\n",
    "<li> Raw text - Number vector - Machine learning </li></p>\n",
    "\n",
    "<h5> <b> Label encoding </b> </h5>\n",
    "<p> <li> We make a vocabulary of all the words and assign them numbers. </li> </p>\n",
    "\n",
    "<h5> <b> One hot encoding </b> </h5>\n",
    "<p> <li> We take a matrix of all the words in the vocabulary and the words we want to vectoriZe and the word which is equal is marked 1 and others 0. </li> </p>\n",
    "\n",
    "<img src=\"onehot.png\" width=\"500\" height=\"200\">\n",
    "\n",
    "<h5> <b> Disadvantages </b> </h5>\n",
    "<p> <li> Similar words do not have similar representation {assistance != help}\n",
    "    <li> Consumes too much memory & compute resources to make vector of each word.\n",
    "    <li> Can't represent unknown words after training\n",
    "    <li> Different size sentences will have different size vector\n",
    "</p>"
   ]
  },
  {
   "cell_type": "markdown",
   "metadata": {},
   "source": []
  }
 ],
 "metadata": {
  "language_info": {
   "name": "python"
  }
 },
 "nbformat": 4,
 "nbformat_minor": 2
}
